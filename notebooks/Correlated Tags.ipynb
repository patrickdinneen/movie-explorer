{
 "cells": [
  {
   "cell_type": "markdown",
   "id": "b7f7f78b",
   "metadata": {},
   "source": [
    "# Intro\n",
    "\n",
    "Many of the tags in the corpus are more or less equivalent (e.g. \"great cinemaphotography\", \"beautifully shot\").\n",
    "\n",
    "The goal here is to discover which tags are most correlated and only use one of each pair to increase information in the tag set."
   ]
  },
  {
   "cell_type": "code",
   "execution_count": 1,
   "id": "ddf62a0c",
   "metadata": {},
   "outputs": [],
   "source": [
    "%load_ext google.cloud.bigquery\n",
    "\n",
    "import pandas as pd"
   ]
  },
  {
   "cell_type": "code",
   "execution_count": 2,
   "id": "050e3fdc",
   "metadata": {},
   "outputs": [
    {
     "name": "stdout",
     "output_type": "stream",
     "text": [
      "/Users/patrickdinneen/google-cloud-sdk/platform/bq/bq.py:41: DeprecationWarning: the imp module is deprecated in favour of importlib; see the module's documentation for alternative uses\n",
      "  import imp\n",
      "         tableId          Type    Labels   Time Partitioning   Clustered Fields  \n",
      " ----------------------- ------- -------- ------------------- ------------------ \n",
      "  movie_tags              TABLE                                                  \n",
      "  movie_tags_unit_score   TABLE                                                  \n",
      "  movies                  TABLE                                                  \n",
      "  tags                    TABLE                                                  \n"
     ]
    }
   ],
   "source": [
    "! bq ls movielens"
   ]
  },
  {
   "cell_type": "code",
   "execution_count": 3,
   "id": "a478342b",
   "metadata": {},
   "outputs": [
    {
     "name": "stdout",
     "output_type": "stream",
     "text": [
      "/Users/patrickdinneen/google-cloud-sdk/platform/bq/bq.py:41: DeprecationWarning: the imp module is deprecated in favour of importlib; see the module's documentation for alternative uses\n",
      "  import imp\n",
      "Table pjd-hosting:movielens.movie_tags\n",
      "\n",
      "   Last modified          Schema          Total Rows   Total Bytes   Expiration   Time Partitioning   Clustered Fields   Labels  \n",
      " ----------------- --------------------- ------------ ------------- ------------ ------------------- ------------------ -------- \n",
      "  24 Aug 08:41:35   |- tag: string        10551655     295027780                                                                 \n",
      "                    |- item_id: integer                                                                                          \n",
      "                    |- score: float                                                                                              \n",
      "\n"
     ]
    }
   ],
   "source": [
    "! bq show movielens.movie_tags"
   ]
  },
  {
   "cell_type": "code",
   "execution_count": 8,
   "id": "08ccb715",
   "metadata": {},
   "outputs": [
    {
     "name": "stderr",
     "output_type": "stream",
     "text": [
      "/Users/patrickdinneen/GD_Dev/ext/movie-explorer/.venv/lib/python3.7/site-packages/google/cloud/bigquery/job/query.py:1683: UserWarning: A progress bar was requested, but there was an error loading the tqdm library. Please install tqdm to use the progress bar functionality.\n",
      "  query_result = wait_for_query(self, progress_bar_type, max_results=max_results)\n",
      "/Users/patrickdinneen/GD_Dev/ext/movie-explorer/.venv/lib/python3.7/site-packages/google/cloud/bigquery/table.py:1942: UserWarning: A progress bar was requested, but there was an error loading the tqdm library. Please install tqdm to use the progress bar functionality.\n",
      "  create_bqstorage_client=create_bqstorage_client,\n"
     ]
    }
   ],
   "source": [
    "%%bigquery tag_scores\n",
    "\n",
    "SELECT \n",
    "    * \n",
    "FROM movielens.movie_tags \n",
    "WHERE item_id IN (\n",
    "    SELECT\n",
    "        item_id\n",
    "    FROM movielens.movies\n",
    "    ORDER BY RAND()\n",
    "    LIMIT 10000\n",
    ");"
   ]
  },
  {
   "cell_type": "code",
   "execution_count": 11,
   "id": "918c82b4",
   "metadata": {},
   "outputs": [],
   "source": [
    "tag_scores_wide = tag_scores.pivot(index=\"item_id\", columns=\"tag\", values=\"score\")"
   ]
  },
  {
   "cell_type": "code",
   "execution_count": 12,
   "id": "94909438",
   "metadata": {},
   "outputs": [],
   "source": [
    "correlation_matrix = tag_scores_wide.corr()"
   ]
  },
  {
   "cell_type": "code",
   "execution_count": 13,
   "id": "e80b265b",
   "metadata": {},
   "outputs": [
    {
     "name": "stdout",
     "output_type": "stream",
     "text": [
      "tag                007  007 (series)  18th century     1920s     1930s  \\\n",
      "tag                                                                      \n",
      "007           1.000000      0.984736      0.066076 -0.023022 -0.029069   \n",
      "007 (series)  0.984736      1.000000      0.055972 -0.026003 -0.026403   \n",
      "18th century  0.066076      0.055972      1.000000  0.338456  0.209524   \n",
      "1920s        -0.023022     -0.026003      0.338456  1.000000  0.428615   \n",
      "1930s        -0.029069     -0.026403      0.209524  0.428615  1.000000   \n",
      "...                ...           ...           ...       ...       ...   \n",
      "writers      -0.050872     -0.048752     -0.135796 -0.102410 -0.010194   \n",
      "wuxia        -0.002019     -0.005360      0.139079  0.023841  0.001794   \n",
      "wwii         -0.019922     -0.016344      0.056484  0.063923  0.222043   \n",
      "zombie       -0.030199     -0.028460     -0.104038 -0.076157 -0.084940   \n",
      "zombies      -0.012740     -0.012012     -0.050165 -0.017035 -0.042976   \n",
      "\n",
      "tag              1950s     1960s     1970s     1980s  19th century  ...  \\\n",
      "tag                                                                 ...   \n",
      "007          -0.020832  0.012062  0.017866 -0.017353     -0.011359  ...   \n",
      "007 (series) -0.020045  0.007424  0.008775 -0.024701     -0.010959  ...   \n",
      "18th century  0.168129 -0.012330  0.061317 -0.051530      0.371277  ...   \n",
      "1920s         0.296625  0.092591  0.254484 -0.077429      0.107811  ...   \n",
      "1930s         0.220242  0.005875  0.161807 -0.026809      0.104731  ...   \n",
      "...                ...       ...       ...       ...           ...  ...   \n",
      "writers      -0.015250 -0.019758 -0.082030 -0.028370     -0.013188  ...   \n",
      "wuxia        -0.021233 -0.019596 -0.024548 -0.013735      0.023398  ...   \n",
      "wwii          0.024754  0.001025  0.101762 -0.053976      0.001737  ...   \n",
      "zombie       -0.039700 -0.021638  0.016860  0.128947     -0.047580  ...   \n",
      "zombies      -0.029468 -0.026675  0.018600  0.080030     -0.018054  ...   \n",
      "\n",
      "tag           workplace  world politics  world war i  world war ii  \\\n",
      "tag                                                                  \n",
      "007           -0.023413        0.055806     0.009175     -0.014716   \n",
      "007 (series)  -0.026188        0.043465     0.005201     -0.011201   \n",
      "18th century   0.001932        0.124871     0.073936      0.028248   \n",
      "1920s          0.023642        0.098753     0.062296      0.032452   \n",
      "1930s         -0.005899        0.149649     0.042990      0.226894   \n",
      "...                 ...             ...          ...           ...   \n",
      "writers        0.015051       -0.024659    -0.105785     -0.093869   \n",
      "wuxia         -0.027870        0.030809    -0.015064     -0.017360   \n",
      "wwii          -0.013376        0.203030     0.400311      0.851262   \n",
      "zombie        -0.090206       -0.125845    -0.060737     -0.057167   \n",
      "zombies       -0.037533       -0.048589    -0.029862     -0.022098   \n",
      "\n",
      "tag           writer's life   writers     wuxia      wwii    zombie   zombies  \n",
      "tag                                                                            \n",
      "007               -0.006073 -0.050872 -0.002019 -0.019922 -0.030199 -0.012740  \n",
      "007 (series)      -0.006137 -0.048752 -0.005360 -0.016344 -0.028460 -0.012012  \n",
      "18th century       0.010505 -0.135796  0.139079  0.056484 -0.104038 -0.050165  \n",
      "1920s              0.047889 -0.102410  0.023841  0.063923 -0.076157 -0.017035  \n",
      "1930s             -0.017365 -0.010194  0.001794  0.222043 -0.084940 -0.042976  \n",
      "...                     ...       ...       ...       ...       ...       ...  \n",
      "writers            0.079417  1.000000 -0.049370 -0.092692  0.045336 -0.003244  \n",
      "wuxia             -0.009059 -0.049370  1.000000  0.002038 -0.014359 -0.010753  \n",
      "wwii              -0.019990 -0.092692  0.002038  1.000000 -0.078186 -0.035113  \n",
      "zombie             0.019378  0.045336 -0.014359 -0.078186  1.000000  0.628289  \n",
      "zombies           -0.013036 -0.003244 -0.010753 -0.035113  0.628289  1.000000  \n",
      "\n",
      "[1084 rows x 1084 columns]\n"
     ]
    }
   ],
   "source": [
    "print(correlation_matrix)"
   ]
  },
  {
   "cell_type": "code",
   "execution_count": 14,
   "id": "c86132b4",
   "metadata": {},
   "outputs": [
    {
     "data": {
      "text/plain": [
       "pandas.core.frame.DataFrame"
      ]
     },
     "execution_count": 14,
     "metadata": {},
     "output_type": "execute_result"
    }
   ],
   "source": [
    "type(correlation_matrix)"
   ]
  },
  {
   "cell_type": "code",
   "execution_count": 16,
   "id": "eea47201",
   "metadata": {},
   "outputs": [],
   "source": [
    "stacked = correlation_matrix.rename_axis(None).rename_axis(None, axis=1)"
   ]
  },
  {
   "cell_type": "code",
   "execution_count": 17,
   "id": "c0d2c315",
   "metadata": {},
   "outputs": [],
   "source": [
    "stacked = stacked.stack().reset_index()"
   ]
  },
  {
   "cell_type": "code",
   "execution_count": 20,
   "id": "31f3caf2",
   "metadata": {},
   "outputs": [],
   "source": [
    "stacked.columns = [\"lhs_tag\", \"rhs_tag\", \"correlation\"]"
   ]
  },
  {
   "cell_type": "code",
   "execution_count": 29,
   "id": "84ed0a8e",
   "metadata": {},
   "outputs": [
    {
     "name": "stderr",
     "output_type": "stream",
     "text": [
      "/Users/patrickdinneen/GD_Dev/ext/movie-explorer/.venv/lib/python3.7/site-packages/ipykernel_launcher.py:1: UserWarning: Boolean Series key will be reindexed to match DataFrame index.\n",
      "  \"\"\"Entry point for launching an IPython kernel.\n"
     ]
    }
   ],
   "source": [
    "stacked[(stacked.lhs_tag != stacked.rhs_tag)][stacked.correlation > 0.8].to_csv(\"tag_correlations.csv\", index=False)"
   ]
  },
  {
   "cell_type": "code",
   "execution_count": null,
   "id": "dc46f493",
   "metadata": {},
   "outputs": [],
   "source": []
  }
 ],
 "metadata": {
  "kernelspec": {
   "display_name": "Python 3 (ipykernel)",
   "language": "python",
   "name": "python3"
  },
  "language_info": {
   "codemirror_mode": {
    "name": "ipython",
    "version": 3
   },
   "file_extension": ".py",
   "mimetype": "text/x-python",
   "name": "python",
   "nbconvert_exporter": "python",
   "pygments_lexer": "ipython3",
   "version": "3.7.9"
  }
 },
 "nbformat": 4,
 "nbformat_minor": 5
}
