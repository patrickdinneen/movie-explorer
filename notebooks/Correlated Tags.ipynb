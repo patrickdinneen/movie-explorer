{
 "cells": [
  {
   "cell_type": "markdown",
   "id": "b7f7f78b",
   "metadata": {},
   "source": [
    "# Intro\n",
    "\n",
    "Many of the tags in the corpus are more or less equivalent (e.g. \"great cinemaphotography\", \"beautifully shot\").\n",
    "\n",
    "The goal here is to discover which tags are most correlated and only use one of each pair to increase information in the tag set."
   ]
  },
  {
   "cell_type": "code",
   "execution_count": 1,
   "id": "ddf62a0c",
   "metadata": {},
   "outputs": [],
   "source": [
    "%load_ext google.cloud.bigquery\n",
    "\n",
    "import pandas as pd"
   ]
  },
  {
   "cell_type": "code",
   "execution_count": 2,
   "id": "050e3fdc",
   "metadata": {},
   "outputs": [
    {
     "name": "stdout",
     "output_type": "stream",
     "text": [
      "/Users/patrickdinneen/tools/google-cloud-sdk/platform/bq/bq.py:17: DeprecationWarning: 'pipes' is deprecated and slated for removal in Python 3.13\n",
      "  import pipes\n",
      "/Users/patrickdinneen/tools/google-cloud-sdk/platform/bq/bq.py:41: DeprecationWarning: the imp module is deprecated in favour of importlib and slated for removal in Python 3.12; see the module's documentation for alternative uses\n",
      "  import imp\n",
      "         tableId          Type    Labels   Time Partitioning   Clustered Fields  \n",
      " ----------------------- ------- -------- ------------------- ------------------ \n",
      "  movie_tags              TABLE                                                  \n",
      "  movie_tags_unit_score   TABLE                                                  \n",
      "  movies                  TABLE                                                  \n",
      "  tags                    TABLE                                                  \n"
     ]
    }
   ],
   "source": [
    "! bq ls movielens"
   ]
  },
  {
   "cell_type": "code",
   "execution_count": 3,
   "id": "a478342b",
   "metadata": {},
   "outputs": [
    {
     "name": "stdout",
     "output_type": "stream",
     "text": [
      "/Users/patrickdinneen/tools/google-cloud-sdk/platform/bq/bq.py:17: DeprecationWarning: 'pipes' is deprecated and slated for removal in Python 3.13\n",
      "  import pipes\n",
      "/Users/patrickdinneen/tools/google-cloud-sdk/platform/bq/bq.py:41: DeprecationWarning: the imp module is deprecated in favour of importlib and slated for removal in Python 3.12; see the module's documentation for alternative uses\n",
      "  import imp\n",
      "Table pjd-hosting:movielens.movie_tags\n",
      "\n",
      "   Last modified          Schema          Total Rows   Total Bytes   Expiration   Time Partitioning   Clustered Fields   Total Logical Bytes   Total Physical Bytes   Labels  \n",
      " ----------------- --------------------- ------------ ------------- ------------ ------------------- ------------------ --------------------- ---------------------- -------- \n",
      "  24 Aug 08:41:35   |- tag: string        10551655     295027780                                                         295027780             97448449                       \n",
      "                    |- item_id: integer                                                                                                                                       \n",
      "                    |- score: float                                                                                                                                           \n",
      "\n"
     ]
    }
   ],
   "source": [
    "! bq show movielens.movie_tags"
   ]
  },
  {
   "cell_type": "code",
   "execution_count": 4,
   "id": "08ccb715",
   "metadata": {},
   "outputs": [
    {
     "name": "stderr",
     "output_type": "stream",
     "text": [
      "/Users/patrickdinneen/code/movie-explorer/venv/lib/python3.11/site-packages/google/cloud/bigquery/job/query.py:1687: UserWarning: A progress bar was requested, but there was an error loading the tqdm library. Please install tqdm to use the progress bar functionality.\n",
      "  query_result = wait_for_query(self, progress_bar_type, max_results=max_results)\n",
      "/Users/patrickdinneen/code/movie-explorer/venv/lib/python3.11/site-packages/google/cloud/bigquery/table.py:2007: UserWarning: A progress bar was requested, but there was an error loading the tqdm library. Please install tqdm to use the progress bar functionality.\n",
      "  record_batch = self.to_arrow(\n"
     ]
    }
   ],
   "source": [
    "%%bigquery tag_scores\n",
    "\n",
    "SELECT \n",
    "    * \n",
    "FROM movielens.movie_tags \n",
    "WHERE item_id IN (\n",
    "    SELECT\n",
    "        item_id\n",
    "    FROM movielens.movies\n",
    "    ORDER BY RAND()\n",
    "    LIMIT 50000\n",
    ");"
   ]
  },
  {
   "cell_type": "code",
   "execution_count": 5,
   "id": "918c82b4",
   "metadata": {},
   "outputs": [],
   "source": [
    "tag_scores_wide = tag_scores.pivot(index=\"item_id\", columns=\"tag\", values=\"score\")"
   ]
  },
  {
   "cell_type": "code",
   "execution_count": 6,
   "id": "94909438",
   "metadata": {},
   "outputs": [],
   "source": [
    "correlation_matrix = tag_scores_wide.corr()"
   ]
  },
  {
   "cell_type": "code",
   "execution_count": 7,
   "id": "e80b265b",
   "metadata": {},
   "outputs": [
    {
     "name": "stdout",
     "output_type": "stream",
     "text": [
      "tag                007  007 (series)  18th century     1920s     1930s  \\\n",
      "tag                                                                      \n",
      "007           1.000000      0.949175      0.020070 -0.028065 -0.021468   \n",
      "007 (series)  0.949175      1.000000      0.027040 -0.031327 -0.019586   \n",
      "18th century  0.020070      0.027040      1.000000  0.266314  0.190845   \n",
      "1920s        -0.028065     -0.031327      0.266314  1.000000  0.458205   \n",
      "1930s        -0.021468     -0.019586      0.190845  0.458205  1.000000   \n",
      "...                ...           ...           ...       ...       ...   \n",
      "writers      -0.029281     -0.031840     -0.037146 -0.048540 -0.035548   \n",
      "wuxia        -0.005294     -0.004843      0.067761 -0.008181 -0.010001   \n",
      "wwii          0.006612      0.009619      0.081716  0.081172  0.205075   \n",
      "zombie       -0.027414     -0.022144     -0.095212 -0.063830 -0.087175   \n",
      "zombies      -0.009834     -0.009415     -0.041767 -0.022294 -0.029351   \n",
      "\n",
      "tag              1950s     1960s     1970s     1980s  19th century  ...  \\\n",
      "tag                                                                 ...   \n",
      "007          -0.016232  0.081330  0.028476 -0.002108     -0.012276  ...   \n",
      "007 (series) -0.017921  0.061297  0.019646  0.000522     -0.008236  ...   \n",
      "18th century  0.091115  0.028302  0.090758 -0.046069      0.400628  ...   \n",
      "1920s         0.211877  0.065892  0.231868 -0.033544      0.109450  ...   \n",
      "1930s         0.155654  0.004708  0.141450 -0.043432      0.071339  ...   \n",
      "...                ...       ...       ...       ...           ...  ...   \n",
      "writers      -0.026525 -0.055965 -0.106225 -0.059175     -0.022414  ...   \n",
      "wuxia        -0.019984 -0.012517 -0.020865 -0.020432     -0.009197  ...   \n",
      "wwii          0.018186  0.004806  0.091892 -0.024012      0.021752  ...   \n",
      "zombie       -0.047299 -0.041325 -0.019449  0.109732     -0.040790  ...   \n",
      "zombies      -0.009147 -0.022812 -0.020270  0.055644     -0.016656  ...   \n",
      "\n",
      "tag           workplace  world politics  world war i  world war ii  \\\n",
      "tag                                                                  \n",
      "007           -0.017747        0.063820     0.005776      0.014086   \n",
      "007 (series)  -0.021018        0.060413     0.010010      0.016505   \n",
      "18th century   0.008003        0.061193     0.131117      0.038162   \n",
      "1920s          0.040222        0.061400     0.108001      0.055590   \n",
      "1930s          0.009654        0.085793     0.135242      0.199820   \n",
      "...                 ...             ...          ...           ...   \n",
      "writers        0.023206       -0.024901    -0.073160     -0.083398   \n",
      "wuxia         -0.013946       -0.001799     0.004093     -0.017390   \n",
      "wwii          -0.021955        0.208256     0.393760      0.860876   \n",
      "zombie        -0.048442       -0.105442    -0.060308     -0.051892   \n",
      "zombies       -0.018972       -0.051992    -0.026321     -0.020396   \n",
      "\n",
      "tag           writer's life   writers     wuxia      wwii    zombie   zombies  \n",
      "tag                                                                            \n",
      "007               -0.003806 -0.029281 -0.005294  0.006612 -0.027414 -0.009834  \n",
      "007 (series)      -0.003819 -0.031840 -0.004843  0.009619 -0.022144 -0.009415  \n",
      "18th century       0.000243 -0.037146  0.067761  0.081716 -0.095212 -0.041767  \n",
      "1920s             -0.006803 -0.048540 -0.008181  0.081172 -0.063830 -0.022294  \n",
      "1930s             -0.027095 -0.035548 -0.010001  0.205075 -0.087175 -0.029351  \n",
      "...                     ...       ...       ...       ...       ...       ...  \n",
      "writers            0.065704  1.000000 -0.028376 -0.098802  0.038995 -0.000074  \n",
      "wuxia             -0.006454 -0.028376  1.000000 -0.017739 -0.010211 -0.008077  \n",
      "wwii              -0.000823 -0.098802 -0.017739  1.000000 -0.065853 -0.029939  \n",
      "zombie            -0.010108  0.038995 -0.010211 -0.065853  1.000000  0.559780  \n",
      "zombies           -0.007769 -0.000074 -0.008077 -0.029939  0.559780  1.000000  \n",
      "\n",
      "[1084 rows x 1084 columns]\n"
     ]
    }
   ],
   "source": [
    "print(correlation_matrix)"
   ]
  },
  {
   "cell_type": "code",
   "execution_count": 8,
   "id": "c86132b4",
   "metadata": {},
   "outputs": [
    {
     "data": {
      "text/plain": [
       "pandas.core.frame.DataFrame"
      ]
     },
     "execution_count": 8,
     "metadata": {},
     "output_type": "execute_result"
    }
   ],
   "source": [
    "type(correlation_matrix)"
   ]
  },
  {
   "cell_type": "code",
   "execution_count": 9,
   "id": "eea47201",
   "metadata": {},
   "outputs": [],
   "source": [
    "stacked = correlation_matrix.rename_axis(None).rename_axis(None, axis=1)"
   ]
  },
  {
   "cell_type": "code",
   "execution_count": 10,
   "id": "c0d2c315",
   "metadata": {},
   "outputs": [],
   "source": [
    "stacked = stacked.stack().reset_index()"
   ]
  },
  {
   "cell_type": "code",
   "execution_count": 11,
   "id": "31f3caf2",
   "metadata": {},
   "outputs": [],
   "source": [
    "stacked.columns = [\"lhs_tag\", \"rhs_tag\", \"correlation\"]"
   ]
  },
  {
   "cell_type": "code",
   "execution_count": 13,
   "id": "84ed0a8e",
   "metadata": {},
   "outputs": [
    {
     "name": "stderr",
     "output_type": "stream",
     "text": [
      "/var/folders/st/y60tgr017z3d1b6yv7c0zfrc0000gn/T/ipykernel_26562/2598737945.py:1: UserWarning: Boolean Series key will be reindexed to match DataFrame index.\n",
      "  stacked[(stacked.lhs_tag != stacked.rhs_tag)][stacked.correlation > 0.7].to_csv(\"tag_correlations.csv\", index=False)\n"
     ]
    }
   ],
   "source": [
    "stacked[(stacked.lhs_tag != stacked.rhs_tag)][stacked.correlation > 0.7].to_csv(\"tag_correlations.csv\", index=False)"
   ]
  },
  {
   "cell_type": "code",
   "execution_count": 16,
   "id": "dc46f493",
   "metadata": {},
   "outputs": [
    {
     "name": "stderr",
     "output_type": "stream",
     "text": [
      "/Users/patrickdinneen/code/movie-explorer/venv/lib/python3.11/site-packages/google/cloud/bigquery/job/query.py:1687: UserWarning: A progress bar was requested, but there was an error loading the tqdm library. Please install tqdm to use the progress bar functionality.\n",
      "  query_result = wait_for_query(self, progress_bar_type, max_results=max_results)\n",
      "/Users/patrickdinneen/code/movie-explorer/venv/lib/python3.11/site-packages/google/cloud/bigquery/table.py:2007: UserWarning: A progress bar was requested, but there was an error loading the tqdm library. Please install tqdm to use the progress bar functionality.\n",
      "  record_batch = self.to_arrow(\n"
     ]
    },
    {
     "data": {
      "text/html": [
       "<div>\n",
       "<style scoped>\n",
       "    .dataframe tbody tr th:only-of-type {\n",
       "        vertical-align: middle;\n",
       "    }\n",
       "\n",
       "    .dataframe tbody tr th {\n",
       "        vertical-align: top;\n",
       "    }\n",
       "\n",
       "    .dataframe thead th {\n",
       "        text-align: right;\n",
       "    }\n",
       "</style>\n",
       "<table border=\"1\" class=\"dataframe\">\n",
       "  <thead>\n",
       "    <tr style=\"text-align: right;\">\n",
       "      <th></th>\n",
       "      <th>id</th>\n",
       "      <th>tag</th>\n",
       "    </tr>\n",
       "  </thead>\n",
       "  <tbody>\n",
       "    <tr>\n",
       "      <th>0</th>\n",
       "      <td>32166</td>\n",
       "      <td>author:neil gaiman</td>\n",
       "    </tr>\n",
       "    <tr>\n",
       "      <th>1</th>\n",
       "      <td>32351</td>\n",
       "      <td>author:alan moore</td>\n",
       "    </tr>\n",
       "  </tbody>\n",
       "</table>\n",
       "</div>"
      ],
      "text/plain": [
       "      id                 tag\n",
       "0  32166  author:neil gaiman\n",
       "1  32351   author:alan moore"
      ]
     },
     "execution_count": 16,
     "metadata": {},
     "output_type": "execute_result"
    }
   ],
   "source": [
    "%%bigquery \n",
    "\n",
    "SELECT \n",
    "    * \n",
    "FROM movielens.tags\n",
    "WHERE REGEXP_CONTAINS(tag, 'author')"
   ]
  },
  {
   "cell_type": "code",
   "execution_count": null,
   "id": "3a3fbf43",
   "metadata": {},
   "outputs": [],
   "source": []
  }
 ],
 "metadata": {
  "kernelspec": {
   "display_name": "Python 3 (ipykernel)",
   "language": "python",
   "name": "python3"
  },
  "language_info": {
   "codemirror_mode": {
    "name": "ipython",
    "version": 3
   },
   "file_extension": ".py",
   "mimetype": "text/x-python",
   "name": "python",
   "nbconvert_exporter": "python",
   "pygments_lexer": "ipython3",
   "version": "3.11.0"
  }
 },
 "nbformat": 4,
 "nbformat_minor": 5
}
